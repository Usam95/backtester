{
 "cells": [
  {
   "cell_type": "markdown",
   "id": "cb1fec1d",
   "metadata": {},
   "source": [
    "Der *Moving Average Convergence Divergence (MACD)* ist ein beliebter Trendfolge-Momentum-Indikator, der uns dabei hilft, Handelssignale basierend auf der Beziehung zwischen zwei gleitenden Durchschnitten des Preises eines Wertpapiers zu generieren.\n",
    "\n",
    "Die `prepare_data` Methode akzeptiert vier Parameter: die Frequenz (`freq`), den Kurzzeit-Exponential Moving Average (`ema_s_val`), den Langzeit-Exponential Moving Average (`ema_l_val`) und das Signal Moving Window (`signal_mw`).\n",
    "\n",
    "In diesem Fall haben wir die Werte auf 60 für `freq`, 12 für `ema_s_val`, 20 für `ema_l_val` und 9 für `signal_mw` gesetzt. Diese Kombination von Parametern hat in unseren Tests gute Ergebnisse gezeigt.\n"
   ]
  },
  {
   "cell_type": "code",
   "execution_count": 1,
   "id": "a8be52f5",
   "metadata": {},
   "outputs": [],
   "source": [
    "import pandas as pd\n",
    "import numpy as np\n",
    "import matplotlib.pyplot as plt\n",
    "import os\n",
    "import matplotlib.pyplot as plt"
   ]
  },
  {
   "cell_type": "code",
   "execution_count": null,
   "id": "545689f2",
   "metadata": {},
   "outputs": [],
   "source": [
    "# Add the subfolders of the project to sys.path list\n",
    "sys.path.append(os.path.abspath(os.path.join(\"..\", \"indicators\")))\n",
    "import strategies\n",
    "from strategies import MACD"
   ]
  },
  {
   "cell_type": "code",
   "execution_count": null,
   "id": "b4b75e7e",
   "metadata": {},
   "outputs": [],
   "source": [
    "ticker = \"XRPUSDT\""
   ]
  },
  {
   "cell_type": "markdown",
   "id": "4cbaf5a2",
   "metadata": {},
   "source": [
    "## Initialize MACD Instance "
   ]
  },
  {
   "cell_type": "code",
   "execution_count": 24,
   "id": "6e1378ec",
   "metadata": {},
   "outputs": [],
   "source": [
    "macd = MACD(symbol = ticker)\n",
    "macd.data = data.copy()\n",
    "# paramters: 60 für freq, 12 für ema_s_val, 20 für ema_l_val und 9 für signal_mw\n",
    "macd.prepare_data(60, 12, 20, 9)"
   ]
  },
  {
   "cell_type": "markdown",
   "id": "66903984",
   "metadata": {},
   "source": [
    "## Execute Backtest"
   ]
  },
  {
   "cell_type": "code",
   "execution_count": null,
   "id": "ae6a159e",
   "metadata": {},
   "outputs": [],
   "source": [
    "macd.run_backtest()"
   ]
  },
  {
   "cell_type": "markdown",
   "id": "cfd49939",
   "metadata": {},
   "source": [
    "## Evaluate MACD"
   ]
  },
  {
   "cell_type": "code",
   "execution_count": 25,
   "id": "f602fc50",
   "metadata": {},
   "outputs": [
    {
     "data": {
      "text/html": [
       "<div>\n",
       "<style scoped>\n",
       "    .dataframe tbody tr th:only-of-type {\n",
       "        vertical-align: middle;\n",
       "    }\n",
       "\n",
       "    .dataframe tbody tr th {\n",
       "        vertical-align: top;\n",
       "    }\n",
       "\n",
       "    .dataframe thead th {\n",
       "        text-align: right;\n",
       "    }\n",
       "</style>\n",
       "<table border=\"1\" class=\"dataframe\">\n",
       "  <thead>\n",
       "    <tr style=\"text-align: right;\">\n",
       "      <th></th>\n",
       "      <th>Open</th>\n",
       "      <th>High</th>\n",
       "      <th>Low</th>\n",
       "      <th>Close</th>\n",
       "      <th>Volume</th>\n",
       "      <th>returns</th>\n",
       "      <th>position</th>\n",
       "      <th>strategy</th>\n",
       "      <th>trades</th>\n",
       "      <th>strategy_net</th>\n",
       "    </tr>\n",
       "    <tr>\n",
       "      <th>Date</th>\n",
       "      <th></th>\n",
       "      <th></th>\n",
       "      <th></th>\n",
       "      <th></th>\n",
       "      <th></th>\n",
       "      <th></th>\n",
       "      <th></th>\n",
       "      <th></th>\n",
       "      <th></th>\n",
       "      <th></th>\n",
       "    </tr>\n",
       "  </thead>\n",
       "  <tbody>\n",
       "    <tr>\n",
       "      <th>2018-05-04 13:00:00</th>\n",
       "      <td>0.91450</td>\n",
       "      <td>0.91596</td>\n",
       "      <td>0.91402</td>\n",
       "      <td>0.91596</td>\n",
       "      <td>59299.49</td>\n",
       "      <td>0.016157</td>\n",
       "      <td>0</td>\n",
       "      <td>0.0</td>\n",
       "      <td>0.0</td>\n",
       "      <td>0.000</td>\n",
       "    </tr>\n",
       "    <tr>\n",
       "      <th>2018-05-04 14:00:00</th>\n",
       "      <td>0.90100</td>\n",
       "      <td>0.90101</td>\n",
       "      <td>0.90000</td>\n",
       "      <td>0.90098</td>\n",
       "      <td>71954.37</td>\n",
       "      <td>-0.016490</td>\n",
       "      <td>0</td>\n",
       "      <td>-0.0</td>\n",
       "      <td>0.0</td>\n",
       "      <td>-0.000</td>\n",
       "    </tr>\n",
       "    <tr>\n",
       "      <th>2018-05-04 15:00:00</th>\n",
       "      <td>0.89791</td>\n",
       "      <td>0.89791</td>\n",
       "      <td>0.89576</td>\n",
       "      <td>0.89722</td>\n",
       "      <td>8394.34</td>\n",
       "      <td>-0.004182</td>\n",
       "      <td>0</td>\n",
       "      <td>-0.0</td>\n",
       "      <td>0.0</td>\n",
       "      <td>-0.000</td>\n",
       "    </tr>\n",
       "    <tr>\n",
       "      <th>2018-05-04 16:00:00</th>\n",
       "      <td>0.90272</td>\n",
       "      <td>0.90277</td>\n",
       "      <td>0.90111</td>\n",
       "      <td>0.90275</td>\n",
       "      <td>13925.62</td>\n",
       "      <td>0.006145</td>\n",
       "      <td>0</td>\n",
       "      <td>0.0</td>\n",
       "      <td>0.0</td>\n",
       "      <td>0.000</td>\n",
       "    </tr>\n",
       "    <tr>\n",
       "      <th>2018-05-04 17:00:00</th>\n",
       "      <td>0.88299</td>\n",
       "      <td>0.88390</td>\n",
       "      <td>0.88212</td>\n",
       "      <td>0.88389</td>\n",
       "      <td>50509.12</td>\n",
       "      <td>-0.021113</td>\n",
       "      <td>0</td>\n",
       "      <td>-0.0</td>\n",
       "      <td>0.0</td>\n",
       "      <td>-0.000</td>\n",
       "    </tr>\n",
       "    <tr>\n",
       "      <th>...</th>\n",
       "      <td>...</td>\n",
       "      <td>...</td>\n",
       "      <td>...</td>\n",
       "      <td>...</td>\n",
       "      <td>...</td>\n",
       "      <td>...</td>\n",
       "      <td>...</td>\n",
       "      <td>...</td>\n",
       "      <td>...</td>\n",
       "      <td>...</td>\n",
       "    </tr>\n",
       "    <tr>\n",
       "      <th>2022-11-09 19:00:00</th>\n",
       "      <td>0.34640</td>\n",
       "      <td>0.34720</td>\n",
       "      <td>0.34640</td>\n",
       "      <td>0.34710</td>\n",
       "      <td>435800.00</td>\n",
       "      <td>-0.026441</td>\n",
       "      <td>0</td>\n",
       "      <td>-0.0</td>\n",
       "      <td>1.0</td>\n",
       "      <td>-0.001</td>\n",
       "    </tr>\n",
       "    <tr>\n",
       "      <th>2022-11-09 20:00:00</th>\n",
       "      <td>0.35550</td>\n",
       "      <td>0.35630</td>\n",
       "      <td>0.35540</td>\n",
       "      <td>0.35580</td>\n",
       "      <td>212987.00</td>\n",
       "      <td>0.024756</td>\n",
       "      <td>0</td>\n",
       "      <td>0.0</td>\n",
       "      <td>0.0</td>\n",
       "      <td>0.000</td>\n",
       "    </tr>\n",
       "    <tr>\n",
       "      <th>2022-11-09 21:00:00</th>\n",
       "      <td>0.35110</td>\n",
       "      <td>0.35160</td>\n",
       "      <td>0.35070</td>\n",
       "      <td>0.35080</td>\n",
       "      <td>725592.00</td>\n",
       "      <td>-0.014153</td>\n",
       "      <td>0</td>\n",
       "      <td>-0.0</td>\n",
       "      <td>0.0</td>\n",
       "      <td>-0.000</td>\n",
       "    </tr>\n",
       "    <tr>\n",
       "      <th>2022-11-09 22:00:00</th>\n",
       "      <td>0.33430</td>\n",
       "      <td>0.33440</td>\n",
       "      <td>0.33230</td>\n",
       "      <td>0.33290</td>\n",
       "      <td>255277.00</td>\n",
       "      <td>-0.052374</td>\n",
       "      <td>0</td>\n",
       "      <td>-0.0</td>\n",
       "      <td>0.0</td>\n",
       "      <td>-0.000</td>\n",
       "    </tr>\n",
       "    <tr>\n",
       "      <th>2022-11-09 23:00:00</th>\n",
       "      <td>0.33120</td>\n",
       "      <td>0.33170</td>\n",
       "      <td>0.33110</td>\n",
       "      <td>0.33130</td>\n",
       "      <td>315807.00</td>\n",
       "      <td>-0.004818</td>\n",
       "      <td>0</td>\n",
       "      <td>-0.0</td>\n",
       "      <td>0.0</td>\n",
       "      <td>-0.000</td>\n",
       "    </tr>\n",
       "  </tbody>\n",
       "</table>\n",
       "<p>39520 rows × 10 columns</p>\n",
       "</div>"
      ],
      "text/plain": [
       "                        Open     High      Low    Close     Volume   returns  \\\n",
       "Date                                                                           \n",
       "2018-05-04 13:00:00  0.91450  0.91596  0.91402  0.91596   59299.49  0.016157   \n",
       "2018-05-04 14:00:00  0.90100  0.90101  0.90000  0.90098   71954.37 -0.016490   \n",
       "2018-05-04 15:00:00  0.89791  0.89791  0.89576  0.89722    8394.34 -0.004182   \n",
       "2018-05-04 16:00:00  0.90272  0.90277  0.90111  0.90275   13925.62  0.006145   \n",
       "2018-05-04 17:00:00  0.88299  0.88390  0.88212  0.88389   50509.12 -0.021113   \n",
       "...                      ...      ...      ...      ...        ...       ...   \n",
       "2022-11-09 19:00:00  0.34640  0.34720  0.34640  0.34710  435800.00 -0.026441   \n",
       "2022-11-09 20:00:00  0.35550  0.35630  0.35540  0.35580  212987.00  0.024756   \n",
       "2022-11-09 21:00:00  0.35110  0.35160  0.35070  0.35080  725592.00 -0.014153   \n",
       "2022-11-09 22:00:00  0.33430  0.33440  0.33230  0.33290  255277.00 -0.052374   \n",
       "2022-11-09 23:00:00  0.33120  0.33170  0.33110  0.33130  315807.00 -0.004818   \n",
       "\n",
       "                     position  strategy  trades  strategy_net  \n",
       "Date                                                           \n",
       "2018-05-04 13:00:00         0       0.0     0.0         0.000  \n",
       "2018-05-04 14:00:00         0      -0.0     0.0        -0.000  \n",
       "2018-05-04 15:00:00         0      -0.0     0.0        -0.000  \n",
       "2018-05-04 16:00:00         0       0.0     0.0         0.000  \n",
       "2018-05-04 17:00:00         0      -0.0     0.0        -0.000  \n",
       "...                       ...       ...     ...           ...  \n",
       "2022-11-09 19:00:00         0      -0.0     1.0        -0.001  \n",
       "2022-11-09 20:00:00         0       0.0     0.0         0.000  \n",
       "2022-11-09 21:00:00         0      -0.0     0.0        -0.000  \n",
       "2022-11-09 22:00:00         0      -0.0     0.0        -0.000  \n",
       "2022-11-09 23:00:00         0      -0.0     0.0        -0.000  \n",
       "\n",
       "[39520 rows x 10 columns]"
      ]
     },
     "execution_count": 25,
     "metadata": {},
     "output_type": "execute_result"
    }
   ],
   "source": [
    "macd.results.dropna()"
   ]
  },
  {
   "cell_type": "code",
   "execution_count": 26,
   "id": "f0974554",
   "metadata": {},
   "outputs": [
    {
     "data": {
      "text/plain": [
       "1    19894\n",
       "0    19628\n",
       "Name: position, dtype: int64"
      ]
     },
     "execution_count": 26,
     "metadata": {},
     "output_type": "execute_result"
    }
   ],
   "source": [
    "macd.results.position.value_counts()"
   ]
  },
  {
   "cell_type": "code",
   "execution_count": 30,
   "id": "bb868a65",
   "metadata": {},
   "outputs": [
    {
     "data": {
      "text/plain": [
       "0.0897010291108115"
      ]
     },
     "execution_count": 30,
     "metadata": {},
     "output_type": "execute_result"
    }
   ],
   "source": [
    "np.exp(macd.results.strategy_net.sum())"
   ]
  },
  {
   "cell_type": "code",
   "execution_count": 29,
   "id": "75cf6df3",
   "metadata": {},
   "outputs": [
    {
     "data": {
      "text/plain": [
       "2.7975022425331906"
      ]
     },
     "execution_count": 29,
     "metadata": {},
     "output_type": "execute_result"
    }
   ],
   "source": [
    "np.exp(macd.results.strategy.sum())"
   ]
  },
  {
   "cell_type": "code",
   "execution_count": null,
   "id": "61669b18",
   "metadata": {},
   "outputs": [],
   "source": [
    "macd.results.dropna()"
   ]
  },
  {
   "cell_type": "code",
   "execution_count": 31,
   "id": "c5f46106",
   "metadata": {},
   "outputs": [
    {
     "data": {
      "text/plain": [
       "0.0    36080\n",
       "1.0     3440\n",
       "Name: trades, dtype: int64"
      ]
     },
     "execution_count": 31,
     "metadata": {},
     "output_type": "execute_result"
    }
   ],
   "source": [
    "macd.results.trades.value_counts()"
   ]
  },
  {
   "cell_type": "code",
   "execution_count": 40,
   "id": "03cf9a4e",
   "metadata": {},
   "outputs": [
    {
     "data": {
      "image/png": "[encoded data removed]",
      "text/plain": [
       "<Figure size 1440x864 with 1 Axes>"
      ]
     },
     "metadata": {
      "needs_background": "light"
     },
     "output_type": "display_data"
    }
   ],
   "source": [
    "# Plot the Close prices\n",
    "df = macd.results.iloc[600:800, :]\n",
    "plt.figure(figsize=(20, 12))\n",
    "plt.plot(df.index, df[\"Close\"])\n",
    "\n",
    "# Initialize previous signal variable\n",
    "prev_signal = None\n",
    "\n",
    "# Add arrows for buy (1) and sell (0) signals\n",
    "for i in range(len(df)):\n",
    "    if df[\"trades\"][i] == 1 and prev_signal != 1:\n",
    "        plt.plot(df.index[i], df[\"Close\"][i], \"^g\", markersize=10)\n",
    "        prev_signal = 1\n",
    "    elif df[\"trades\"][i] == 0 and prev_signal != 0:\n",
    "        plt.plot(df.index[i], df[\"Close\"][i], \"vr\", markersize=10)\n",
    "        prev_signal = 0\n",
    "\n",
    "# Add labels and legend\n",
    "plt.xlabel(\"Date\")\n",
    "plt.ylabel(\"Close Prices\")\n",
    "plt.legend([\"Close\", \"Buy\", \"Sell\"])\n",
    "\n",
    "# Show the plot\n",
    "plt.show()"
   ]
  },
  {
   "cell_type": "code",
   "execution_count": null,
   "id": "ce9df8ea",
   "metadata": {},
   "outputs": [],
   "source": []
  }
 ],
 "metadata": {
  "kernelspec": {
   "display_name": "Python 3 (ipykernel)",
   "language": "python",
   "name": "python3"
  },
  "language_info": {
   "codemirror_mode": {
    "name": "ipython",
    "version": 3
   },
   "file_extension": ".py",
   "mimetype": "text/x-python",
   "name": "python",
   "nbconvert_exporter": "python",
   "pygments_lexer": "ipython3",
   "version": "3.9.7"
  }
 },
 "nbformat": 4,
 "nbformat_minor": 5
}
