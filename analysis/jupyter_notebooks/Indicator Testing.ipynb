{
 "cells": [
  {
   "cell_type": "code",
   "execution_count": 142,
   "id": "58ded0c2",
   "metadata": {},
   "outputs": [],
   "source": [
    "import pandas as pd\n",
    "import os\n",
    "import glob\n",
    "\n",
    "filepath = \"../../historical_data/BTCUSDT/BTCUSDT.parquet.gzip\"\n",
    "data = pd.read_parquet(filepath, engine='pyarrow')"
   ]
  },
  {
   "cell_type": "code",
   "execution_count": 143,
   "id": "cad8e958",
   "metadata": {},
   "outputs": [],
   "source": [
    "import numpy as np"
   ]
  },
  {
   "cell_type": "code",
   "execution_count": 144,
   "id": "452a1547",
   "metadata": {},
   "outputs": [],
   "source": [
    "freq = 1\n",
    "freq = \"{}d\".format(freq)\n",
    "data_resampled = data.copy().resample(freq).last().dropna().iloc[:-1]"
   ]
  },
  {
   "cell_type": "code",
   "execution_count": 145,
   "id": "79d2fb91",
   "metadata": {},
   "outputs": [],
   "source": [
    "df = data_resampled.iloc[:31].copy()"
   ]
  },
  {
   "cell_type": "code",
   "execution_count": 146,
   "id": "cbd88ec5",
   "metadata": {},
   "outputs": [
    {
     "data": {
      "text/html": [
       "<div>\n",
       "<style scoped>\n",
       "    .dataframe tbody tr th:only-of-type {\n",
       "        vertical-align: middle;\n",
       "    }\n",
       "\n",
       "    .dataframe tbody tr th {\n",
       "        vertical-align: top;\n",
       "    }\n",
       "\n",
       "    .dataframe thead th {\n",
       "        text-align: right;\n",
       "    }\n",
       "</style>\n",
       "<table border=\"1\" class=\"dataframe\">\n",
       "  <thead>\n",
       "    <tr style=\"text-align: right;\">\n",
       "      <th></th>\n",
       "      <th>Open</th>\n",
       "      <th>High</th>\n",
       "      <th>Low</th>\n",
       "      <th>Close</th>\n",
       "      <th>Volume</th>\n",
       "    </tr>\n",
       "    <tr>\n",
       "      <th>Date</th>\n",
       "      <th></th>\n",
       "      <th></th>\n",
       "      <th></th>\n",
       "      <th></th>\n",
       "      <th></th>\n",
       "    </tr>\n",
       "  </thead>\n",
       "  <tbody>\n",
       "    <tr>\n",
       "      <th>2018-01-01</th>\n",
       "      <td>13480.01</td>\n",
       "      <td>13480.01</td>\n",
       "      <td>13450.96</td>\n",
       "      <td>13452.00</td>\n",
       "      <td>3.685215</td>\n",
       "    </tr>\n",
       "    <tr>\n",
       "      <th>2018-01-02</th>\n",
       "      <td>14799.00</td>\n",
       "      <td>14799.97</td>\n",
       "      <td>14785.48</td>\n",
       "      <td>14799.96</td>\n",
       "      <td>26.488199</td>\n",
       "    </tr>\n",
       "    <tr>\n",
       "      <th>2018-01-03</th>\n",
       "      <td>14800.04</td>\n",
       "      <td>14800.04</td>\n",
       "      <td>14799.64</td>\n",
       "      <td>14799.91</td>\n",
       "      <td>6.267085</td>\n",
       "    </tr>\n",
       "    <tr>\n",
       "      <th>2018-01-04</th>\n",
       "      <td>14885.51</td>\n",
       "      <td>14940.00</td>\n",
       "      <td>14885.51</td>\n",
       "      <td>14939.39</td>\n",
       "      <td>17.975099</td>\n",
       "    </tr>\n",
       "    <tr>\n",
       "      <th>2018-01-05</th>\n",
       "      <td>16988.87</td>\n",
       "      <td>17047.92</td>\n",
       "      <td>16988.86</td>\n",
       "      <td>17021.36</td>\n",
       "      <td>20.574944</td>\n",
       "    </tr>\n",
       "  </tbody>\n",
       "</table>\n",
       "</div>"
      ],
      "text/plain": [
       "                Open      High       Low     Close     Volume\n",
       "Date                                                         \n",
       "2018-01-01  13480.01  13480.01  13450.96  13452.00   3.685215\n",
       "2018-01-02  14799.00  14799.97  14785.48  14799.96  26.488199\n",
       "2018-01-03  14800.04  14800.04  14799.64  14799.91   6.267085\n",
       "2018-01-04  14885.51  14940.00  14885.51  14939.39  17.975099\n",
       "2018-01-05  16988.87  17047.92  16988.86  17021.36  20.574944"
      ]
     },
     "execution_count": 146,
     "metadata": {},
     "output_type": "execute_result"
    }
   ],
   "source": [
    "df.head()"
   ]
  },
  {
   "cell_type": "code",
   "execution_count": 147,
   "id": "383e03dc",
   "metadata": {},
   "outputs": [],
   "source": [
    "# return = (Pt - Pt-1) / Pt-1 = (Pt - Pt-1) - 1\n",
    "df[\"returns\"] = df.Close / df.Close.shift() - 1"
   ]
  },
  {
   "cell_type": "code",
   "execution_count": 148,
   "id": "a85ebfd3",
   "metadata": {},
   "outputs": [],
   "source": [
    "df.dropna(inplace=True)"
   ]
  },
  {
   "cell_type": "code",
   "execution_count": 149,
   "id": "6b5dbe76",
   "metadata": {
    "scrolled": true
   },
   "outputs": [
    {
     "name": "stdout",
     "output_type": "stream",
     "text": [
      "                Open      High       Low     Close     Volume   returns\n",
      "Date                                                                   \n",
      "2018-01-02  14799.00  14799.97  14785.48  14799.96  26.488199  0.100205\n",
      "2018-01-03  14800.04  14800.04  14799.64  14799.91   6.267085 -0.000003\n",
      "2018-01-04  14885.51  14940.00  14885.51  14939.39  17.975099  0.009424\n",
      "2018-01-05  16988.87  17047.92  16988.86  17021.36  20.574944  0.139361\n",
      "2018-01-06  16967.50  17000.00  16960.02  16975.00   5.255252 -0.002724\n"
     ]
    }
   ],
   "source": [
    "print(df.head())"
   ]
  },
  {
   "cell_type": "code",
   "execution_count": 150,
   "id": "af8491d3",
   "metadata": {},
   "outputs": [],
   "source": [
    "df[\"ln_returns\"] = np.log(1 + df.Close.pct_change())"
   ]
  },
  {
   "cell_type": "code",
   "execution_count": 151,
   "id": "133781de",
   "metadata": {},
   "outputs": [],
   "source": [
    "df.dropna(inplace=True)"
   ]
  },
  {
   "cell_type": "code",
   "execution_count": 152,
   "id": "01dcae32",
   "metadata": {},
   "outputs": [],
   "source": [
    "ema_s_val = 3\n",
    "ema_l_val = 5"
   ]
  },
  {
   "cell_type": "code",
   "execution_count": 153,
   "id": "cb2192b1",
   "metadata": {},
   "outputs": [],
   "source": [
    "ema_s = df[\"Close\"].ewm(span=ema_s_val-1, min_periods=ema_s_val).mean()\n",
    "ema_l = df[\"Close\"].ewm(span=ema_l_val-1, min_periods=ema_l_val).mean()"
   ]
  },
  {
   "cell_type": "code",
   "execution_count": 154,
   "id": "e4999409",
   "metadata": {},
   "outputs": [
    {
     "data": {
      "text/plain": [
       "Date\n",
       "2018-01-05    16370.024615\n",
       "2018-01-06    16778.383000\n",
       "2018-01-07    16555.878678\n",
       "2018-01-08    15236.816813\n",
       "2018-01-09    14581.919488\n",
       "Freq: D, Name: Close, dtype: float64"
      ]
     },
     "execution_count": 154,
     "metadata": {},
     "output_type": "execute_result"
    }
   ],
   "source": [
    "ema_s.dropna().head()"
   ]
  },
  {
   "cell_type": "code",
   "execution_count": 155,
   "id": "206c7822",
   "metadata": {},
   "outputs": [
    {
     "data": {
      "text/plain": [
       "Date\n",
       "2018-01-07    16439.827453\n",
       "2018-01-08    15659.489001\n",
       "2018-01-09    15081.480872\n",
       "2018-01-10    14844.915127\n",
       "2018-01-11    14089.734597\n",
       "Freq: D, Name: Close, dtype: float64"
      ]
     },
     "execution_count": 155,
     "metadata": {},
     "output_type": "execute_result"
    }
   ],
   "source": [
    "ema_l.dropna().head()"
   ]
  },
  {
   "cell_type": "code",
   "execution_count": 156,
   "id": "be9dc685",
   "metadata": {},
   "outputs": [],
   "source": [
    "position = np.zeros(len(df))\n",
    "position[ema_s > ema_l] = 1"
   ]
  },
  {
   "cell_type": "code",
   "execution_count": 157,
   "id": "03747c67",
   "metadata": {},
   "outputs": [
    {
     "data": {
      "text/plain": [
       "array([0., 0., 0., 0., 1., 0., 0., 0., 0., 0., 1., 0., 0., 0., 0., 0., 0.,\n",
       "       1., 0., 0., 0., 0., 0., 0., 1., 1., 0., 0., 0.])"
      ]
     },
     "execution_count": 157,
     "metadata": {},
     "output_type": "execute_result"
    }
   ],
   "source": [
    "position"
   ]
  },
  {
   "cell_type": "code",
   "execution_count": 158,
   "id": "6dcd3fd3",
   "metadata": {},
   "outputs": [
    {
     "data": {
      "text/plain": [
       "29"
      ]
     },
     "execution_count": 158,
     "metadata": {},
     "output_type": "execute_result"
    }
   ],
   "source": [
    "len(position)"
   ]
  },
  {
   "cell_type": "code",
   "execution_count": 159,
   "id": "070267af",
   "metadata": {},
   "outputs": [],
   "source": [
    "import matplotlib.pyplot as plt"
   ]
  },
  {
   "cell_type": "code",
   "execution_count": 160,
   "id": "710fcdf7",
   "metadata": {},
   "outputs": [],
   "source": [
    "position = pd.Series(position, index=df.index).ffill().fillna(0)"
   ]
  },
  {
   "cell_type": "code",
   "execution_count": 161,
   "id": "083ac8bf",
   "metadata": {},
   "outputs": [
    {
     "data": {
      "text/plain": [
       "29"
      ]
     },
     "execution_count": 161,
     "metadata": {},
     "output_type": "execute_result"
    }
   ],
   "source": [
    "len(position)"
   ]
  },
  {
   "cell_type": "code",
   "execution_count": 162,
   "id": "10cf3fd1",
   "metadata": {},
   "outputs": [],
   "source": [
    "df = df.assign(position=position)"
   ]
  },
  {
   "cell_type": "code",
   "execution_count": 163,
   "id": "07c286bc",
   "metadata": {},
   "outputs": [
    {
     "data": {
      "text/html": [
       "<div>\n",
       "<style scoped>\n",
       "    .dataframe tbody tr th:only-of-type {\n",
       "        vertical-align: middle;\n",
       "    }\n",
       "\n",
       "    .dataframe tbody tr th {\n",
       "        vertical-align: top;\n",
       "    }\n",
       "\n",
       "    .dataframe thead th {\n",
       "        text-align: right;\n",
       "    }\n",
       "</style>\n",
       "<table border=\"1\" class=\"dataframe\">\n",
       "  <thead>\n",
       "    <tr style=\"text-align: right;\">\n",
       "      <th></th>\n",
       "      <th>Open</th>\n",
       "      <th>High</th>\n",
       "      <th>Low</th>\n",
       "      <th>Close</th>\n",
       "      <th>Volume</th>\n",
       "      <th>returns</th>\n",
       "      <th>ln_returns</th>\n",
       "      <th>position</th>\n",
       "    </tr>\n",
       "    <tr>\n",
       "      <th>Date</th>\n",
       "      <th></th>\n",
       "      <th></th>\n",
       "      <th></th>\n",
       "      <th></th>\n",
       "      <th></th>\n",
       "      <th></th>\n",
       "      <th></th>\n",
       "      <th></th>\n",
       "    </tr>\n",
       "  </thead>\n",
       "  <tbody>\n",
       "    <tr>\n",
       "      <th>2018-01-03</th>\n",
       "      <td>14800.04</td>\n",
       "      <td>14800.04</td>\n",
       "      <td>14799.64</td>\n",
       "      <td>14799.91</td>\n",
       "      <td>6.267085</td>\n",
       "      <td>-0.000003</td>\n",
       "      <td>-0.000003</td>\n",
       "      <td>0.0</td>\n",
       "    </tr>\n",
       "    <tr>\n",
       "      <th>2018-01-04</th>\n",
       "      <td>14885.51</td>\n",
       "      <td>14940.00</td>\n",
       "      <td>14885.51</td>\n",
       "      <td>14939.39</td>\n",
       "      <td>17.975099</td>\n",
       "      <td>0.009424</td>\n",
       "      <td>0.009380</td>\n",
       "      <td>0.0</td>\n",
       "    </tr>\n",
       "    <tr>\n",
       "      <th>2018-01-05</th>\n",
       "      <td>16988.87</td>\n",
       "      <td>17047.92</td>\n",
       "      <td>16988.86</td>\n",
       "      <td>17021.36</td>\n",
       "      <td>20.574944</td>\n",
       "      <td>0.139361</td>\n",
       "      <td>0.130468</td>\n",
       "      <td>0.0</td>\n",
       "    </tr>\n",
       "    <tr>\n",
       "      <th>2018-01-06</th>\n",
       "      <td>16967.50</td>\n",
       "      <td>17000.00</td>\n",
       "      <td>16960.02</td>\n",
       "      <td>16975.00</td>\n",
       "      <td>5.255252</td>\n",
       "      <td>-0.002724</td>\n",
       "      <td>-0.002727</td>\n",
       "      <td>0.0</td>\n",
       "    </tr>\n",
       "    <tr>\n",
       "      <th>2018-01-07</th>\n",
       "      <td>16435.00</td>\n",
       "      <td>16458.00</td>\n",
       "      <td>16435.00</td>\n",
       "      <td>16446.00</td>\n",
       "      <td>2.071036</td>\n",
       "      <td>-0.031163</td>\n",
       "      <td>-0.031659</td>\n",
       "      <td>1.0</td>\n",
       "    </tr>\n",
       "  </tbody>\n",
       "</table>\n",
       "</div>"
      ],
      "text/plain": [
       "                Open      High       Low     Close     Volume   returns  \\\n",
       "Date                                                                      \n",
       "2018-01-03  14800.04  14800.04  14799.64  14799.91   6.267085 -0.000003   \n",
       "2018-01-04  14885.51  14940.00  14885.51  14939.39  17.975099  0.009424   \n",
       "2018-01-05  16988.87  17047.92  16988.86  17021.36  20.574944  0.139361   \n",
       "2018-01-06  16967.50  17000.00  16960.02  16975.00   5.255252 -0.002724   \n",
       "2018-01-07  16435.00  16458.00  16435.00  16446.00   2.071036 -0.031163   \n",
       "\n",
       "            ln_returns  position  \n",
       "Date                              \n",
       "2018-01-03   -0.000003       0.0  \n",
       "2018-01-04    0.009380       0.0  \n",
       "2018-01-05    0.130468       0.0  \n",
       "2018-01-06   -0.002727       0.0  \n",
       "2018-01-07   -0.031659       1.0  "
      ]
     },
     "execution_count": 163,
     "metadata": {},
     "output_type": "execute_result"
    }
   ],
   "source": [
    "df.head()"
   ]
  },
  {
   "cell_type": "code",
   "execution_count": 164,
   "id": "fca6de4e",
   "metadata": {},
   "outputs": [],
   "source": [
    "ema_s_ser = pd.Series(ema_s, index=df.index).ffill().fillna(0)"
   ]
  },
  {
   "cell_type": "code",
   "execution_count": 165,
   "id": "1498cf84",
   "metadata": {},
   "outputs": [],
   "source": [
    "ema_l_ser = pd.Series(ema_l, index=df.index).ffill().fillna(0)"
   ]
  },
  {
   "cell_type": "code",
   "execution_count": 166,
   "id": "b1d1b8a3",
   "metadata": {},
   "outputs": [],
   "source": [
    "df = df.assign(ema_s=ema_s_ser)"
   ]
  },
  {
   "cell_type": "code",
   "execution_count": 167,
   "id": "84b3df90",
   "metadata": {},
   "outputs": [],
   "source": [
    "df = df.assign(ema_l=ema_l_ser)"
   ]
  },
  {
   "cell_type": "code",
   "execution_count": 168,
   "id": "4ccb18b7",
   "metadata": {},
   "outputs": [
    {
     "data": {
      "text/html": [
       "<div>\n",
       "<style scoped>\n",
       "    .dataframe tbody tr th:only-of-type {\n",
       "        vertical-align: middle;\n",
       "    }\n",
       "\n",
       "    .dataframe tbody tr th {\n",
       "        vertical-align: top;\n",
       "    }\n",
       "\n",
       "    .dataframe thead th {\n",
       "        text-align: right;\n",
       "    }\n",
       "</style>\n",
       "<table border=\"1\" class=\"dataframe\">\n",
       "  <thead>\n",
       "    <tr style=\"text-align: right;\">\n",
       "      <th></th>\n",
       "      <th>Open</th>\n",
       "      <th>High</th>\n",
       "      <th>Low</th>\n",
       "      <th>Close</th>\n",
       "      <th>Volume</th>\n",
       "      <th>returns</th>\n",
       "      <th>ln_returns</th>\n",
       "      <th>position</th>\n",
       "      <th>ema_s</th>\n",
       "      <th>ema_l</th>\n",
       "    </tr>\n",
       "    <tr>\n",
       "      <th>Date</th>\n",
       "      <th></th>\n",
       "      <th></th>\n",
       "      <th></th>\n",
       "      <th></th>\n",
       "      <th></th>\n",
       "      <th></th>\n",
       "      <th></th>\n",
       "      <th></th>\n",
       "      <th></th>\n",
       "      <th></th>\n",
       "    </tr>\n",
       "  </thead>\n",
       "  <tbody>\n",
       "    <tr>\n",
       "      <th>2018-01-03</th>\n",
       "      <td>14800.04</td>\n",
       "      <td>14800.04</td>\n",
       "      <td>14799.64</td>\n",
       "      <td>14799.91</td>\n",
       "      <td>6.267085</td>\n",
       "      <td>-0.000003</td>\n",
       "      <td>-0.000003</td>\n",
       "      <td>0.0</td>\n",
       "      <td>0.000000</td>\n",
       "      <td>0.000000</td>\n",
       "    </tr>\n",
       "    <tr>\n",
       "      <th>2018-01-04</th>\n",
       "      <td>14885.51</td>\n",
       "      <td>14940.00</td>\n",
       "      <td>14885.51</td>\n",
       "      <td>14939.39</td>\n",
       "      <td>17.975099</td>\n",
       "      <td>0.009424</td>\n",
       "      <td>0.009380</td>\n",
       "      <td>0.0</td>\n",
       "      <td>0.000000</td>\n",
       "      <td>0.000000</td>\n",
       "    </tr>\n",
       "    <tr>\n",
       "      <th>2018-01-05</th>\n",
       "      <td>16988.87</td>\n",
       "      <td>17047.92</td>\n",
       "      <td>16988.86</td>\n",
       "      <td>17021.36</td>\n",
       "      <td>20.574944</td>\n",
       "      <td>0.139361</td>\n",
       "      <td>0.130468</td>\n",
       "      <td>0.0</td>\n",
       "      <td>16370.024615</td>\n",
       "      <td>0.000000</td>\n",
       "    </tr>\n",
       "    <tr>\n",
       "      <th>2018-01-06</th>\n",
       "      <td>16967.50</td>\n",
       "      <td>17000.00</td>\n",
       "      <td>16960.02</td>\n",
       "      <td>16975.00</td>\n",
       "      <td>5.255252</td>\n",
       "      <td>-0.002724</td>\n",
       "      <td>-0.002727</td>\n",
       "      <td>0.0</td>\n",
       "      <td>16778.383000</td>\n",
       "      <td>0.000000</td>\n",
       "    </tr>\n",
       "    <tr>\n",
       "      <th>2018-01-07</th>\n",
       "      <td>16435.00</td>\n",
       "      <td>16458.00</td>\n",
       "      <td>16435.00</td>\n",
       "      <td>16446.00</td>\n",
       "      <td>2.071036</td>\n",
       "      <td>-0.031163</td>\n",
       "      <td>-0.031659</td>\n",
       "      <td>1.0</td>\n",
       "      <td>16555.878678</td>\n",
       "      <td>16439.827453</td>\n",
       "    </tr>\n",
       "  </tbody>\n",
       "</table>\n",
       "</div>"
      ],
      "text/plain": [
       "                Open      High       Low     Close     Volume   returns  \\\n",
       "Date                                                                      \n",
       "2018-01-03  14800.04  14800.04  14799.64  14799.91   6.267085 -0.000003   \n",
       "2018-01-04  14885.51  14940.00  14885.51  14939.39  17.975099  0.009424   \n",
       "2018-01-05  16988.87  17047.92  16988.86  17021.36  20.574944  0.139361   \n",
       "2018-01-06  16967.50  17000.00  16960.02  16975.00   5.255252 -0.002724   \n",
       "2018-01-07  16435.00  16458.00  16435.00  16446.00   2.071036 -0.031163   \n",
       "\n",
       "            ln_returns  position         ema_s         ema_l  \n",
       "Date                                                          \n",
       "2018-01-03   -0.000003       0.0      0.000000      0.000000  \n",
       "2018-01-04    0.009380       0.0      0.000000      0.000000  \n",
       "2018-01-05    0.130468       0.0  16370.024615      0.000000  \n",
       "2018-01-06   -0.002727       0.0  16778.383000      0.000000  \n",
       "2018-01-07   -0.031659       1.0  16555.878678  16439.827453  "
      ]
     },
     "execution_count": 168,
     "metadata": {},
     "output_type": "execute_result"
    }
   ],
   "source": [
    "df.head()"
   ]
  },
  {
   "cell_type": "code",
   "execution_count": 169,
   "id": "c56c848d",
   "metadata": {},
   "outputs": [],
   "source": [
    "trades = df[\"position\"].diff().abs().shift(1)"
   ]
  },
  {
   "cell_type": "code",
   "execution_count": 170,
   "id": "3b330ee1",
   "metadata": {},
   "outputs": [
    {
     "data": {
      "text/plain": [
       "Date\n",
       "2018-01-03    NaN\n",
       "2018-01-04    NaN\n",
       "2018-01-05    0.0\n",
       "2018-01-06    0.0\n",
       "2018-01-07    0.0\n",
       "2018-01-08    1.0\n",
       "2018-01-09    1.0\n",
       "2018-01-10    0.0\n",
       "2018-01-11    0.0\n",
       "2018-01-12    0.0\n",
       "Freq: D, Name: position, dtype: float64"
      ]
     },
     "execution_count": 170,
     "metadata": {},
     "output_type": "execute_result"
    }
   ],
   "source": [
    "trades.head(10)"
   ]
  },
  {
   "cell_type": "code",
   "execution_count": 171,
   "id": "2477f3a3",
   "metadata": {},
   "outputs": [],
   "source": [
    "strategy = df[\"position\"].shift(1) * df[\"returns\"]"
   ]
  },
  {
   "cell_type": "code",
   "execution_count": 172,
   "id": "821bf4d7",
   "metadata": {},
   "outputs": [
    {
     "data": {
      "text/plain": [
       "Date\n",
       "2018-01-03         NaN\n",
       "2018-01-04    0.000000\n",
       "2018-01-05    0.000000\n",
       "2018-01-06   -0.000000\n",
       "2018-01-07   -0.000000\n",
       "2018-01-08   -0.113462\n",
       "2018-01-09   -0.000000\n",
       "2018-01-10    0.000000\n",
       "2018-01-11   -0.000000\n",
       "2018-01-12    0.000000\n",
       "Freq: D, dtype: float64"
      ]
     },
     "execution_count": 172,
     "metadata": {},
     "output_type": "execute_result"
    }
   ],
   "source": [
    "strategy.head(10)"
   ]
  },
  {
   "cell_type": "code",
   "execution_count": 173,
   "id": "f0ccfce3",
   "metadata": {},
   "outputs": [],
   "source": [
    "tc=0.00007\n",
    "strategy_net = strategy - trades * tc"
   ]
  },
  {
   "cell_type": "code",
   "execution_count": 174,
   "id": "85ab1a02",
   "metadata": {},
   "outputs": [
    {
     "data": {
      "text/plain": [
       "Date\n",
       "2018-01-03         NaN\n",
       "2018-01-04         NaN\n",
       "2018-01-05    0.000000\n",
       "2018-01-06   -0.000000\n",
       "2018-01-07   -0.000000\n",
       "2018-01-08   -0.113532\n",
       "2018-01-09   -0.000070\n",
       "2018-01-10    0.000000\n",
       "2018-01-11   -0.000000\n",
       "2018-01-12    0.000000\n",
       "Freq: D, dtype: float64"
      ]
     },
     "execution_count": 174,
     "metadata": {},
     "output_type": "execute_result"
    }
   ],
   "source": [
    "strategy_net.head(10)"
   ]
  },
  {
   "cell_type": "code",
   "execution_count": 175,
   "id": "24390df3",
   "metadata": {},
   "outputs": [],
   "source": [
    "df = df.assign(strategy=strategy,\n",
    "               trades=trades,\n",
    "               strategy_net=strategy_net)"
   ]
  },
  {
   "cell_type": "code",
   "execution_count": 182,
   "id": "7654e9af",
   "metadata": {},
   "outputs": [
    {
     "data": {
      "text/html": [
       "<div>\n",
       "<style scoped>\n",
       "    .dataframe tbody tr th:only-of-type {\n",
       "        vertical-align: middle;\n",
       "    }\n",
       "\n",
       "    .dataframe tbody tr th {\n",
       "        vertical-align: top;\n",
       "    }\n",
       "\n",
       "    .dataframe thead th {\n",
       "        text-align: right;\n",
       "    }\n",
       "</style>\n",
       "<table border=\"1\" class=\"dataframe\">\n",
       "  <thead>\n",
       "    <tr style=\"text-align: right;\">\n",
       "      <th></th>\n",
       "      <th>Open</th>\n",
       "      <th>High</th>\n",
       "      <th>Low</th>\n",
       "      <th>Close</th>\n",
       "      <th>Volume</th>\n",
       "      <th>returns</th>\n",
       "      <th>ln_returns</th>\n",
       "      <th>position</th>\n",
       "      <th>ema_s</th>\n",
       "      <th>ema_l</th>\n",
       "      <th>strategy</th>\n",
       "      <th>trades</th>\n",
       "      <th>strategy_net</th>\n",
       "    </tr>\n",
       "    <tr>\n",
       "      <th>Date</th>\n",
       "      <th></th>\n",
       "      <th></th>\n",
       "      <th></th>\n",
       "      <th></th>\n",
       "      <th></th>\n",
       "      <th></th>\n",
       "      <th></th>\n",
       "      <th></th>\n",
       "      <th></th>\n",
       "      <th></th>\n",
       "      <th></th>\n",
       "      <th></th>\n",
       "      <th></th>\n",
       "    </tr>\n",
       "  </thead>\n",
       "  <tbody>\n",
       "    <tr>\n",
       "      <th>2018-01-05</th>\n",
       "      <td>16988.87</td>\n",
       "      <td>17047.92</td>\n",
       "      <td>16988.86</td>\n",
       "      <td>17021.36</td>\n",
       "      <td>20.574944</td>\n",
       "      <td>0.139361</td>\n",
       "      <td>0.130468</td>\n",
       "      <td>0.0</td>\n",
       "      <td>16370.024615</td>\n",
       "      <td>0.000000</td>\n",
       "      <td>0.000000</td>\n",
       "      <td>0.0</td>\n",
       "      <td>0.000000</td>\n",
       "    </tr>\n",
       "    <tr>\n",
       "      <th>2018-01-06</th>\n",
       "      <td>16967.50</td>\n",
       "      <td>17000.00</td>\n",
       "      <td>16960.02</td>\n",
       "      <td>16975.00</td>\n",
       "      <td>5.255252</td>\n",
       "      <td>-0.002724</td>\n",
       "      <td>-0.002727</td>\n",
       "      <td>0.0</td>\n",
       "      <td>16778.383000</td>\n",
       "      <td>0.000000</td>\n",
       "      <td>-0.000000</td>\n",
       "      <td>0.0</td>\n",
       "      <td>-0.000000</td>\n",
       "    </tr>\n",
       "    <tr>\n",
       "      <th>2018-01-07</th>\n",
       "      <td>16435.00</td>\n",
       "      <td>16458.00</td>\n",
       "      <td>16435.00</td>\n",
       "      <td>16446.00</td>\n",
       "      <td>2.071036</td>\n",
       "      <td>-0.031163</td>\n",
       "      <td>-0.031659</td>\n",
       "      <td>1.0</td>\n",
       "      <td>16555.878678</td>\n",
       "      <td>16439.827453</td>\n",
       "      <td>-0.000000</td>\n",
       "      <td>0.0</td>\n",
       "      <td>-0.000000</td>\n",
       "    </tr>\n",
       "    <tr>\n",
       "      <th>2018-01-08</th>\n",
       "      <td>14571.02</td>\n",
       "      <td>14607.02</td>\n",
       "      <td>14520.01</td>\n",
       "      <td>14580.00</td>\n",
       "      <td>30.949144</td>\n",
       "      <td>-0.113462</td>\n",
       "      <td>-0.120432</td>\n",
       "      <td>0.0</td>\n",
       "      <td>15236.816813</td>\n",
       "      <td>15659.489001</td>\n",
       "      <td>-0.113462</td>\n",
       "      <td>1.0</td>\n",
       "      <td>-0.113532</td>\n",
       "    </tr>\n",
       "    <tr>\n",
       "      <th>2018-01-09</th>\n",
       "      <td>14250.01</td>\n",
       "      <td>14277.45</td>\n",
       "      <td>14218.01</td>\n",
       "      <td>14254.92</td>\n",
       "      <td>15.806443</td>\n",
       "      <td>-0.022296</td>\n",
       "      <td>-0.022549</td>\n",
       "      <td>0.0</td>\n",
       "      <td>14581.919488</td>\n",
       "      <td>15081.480872</td>\n",
       "      <td>-0.000000</td>\n",
       "      <td>1.0</td>\n",
       "      <td>-0.000070</td>\n",
       "    </tr>\n",
       "    <tr>\n",
       "      <th>2018-01-10</th>\n",
       "      <td>14449.99</td>\n",
       "      <td>14500.00</td>\n",
       "      <td>14432.67</td>\n",
       "      <td>14500.00</td>\n",
       "      <td>16.100888</td>\n",
       "      <td>0.017193</td>\n",
       "      <td>0.017047</td>\n",
       "      <td>0.0</td>\n",
       "      <td>14527.298171</td>\n",
       "      <td>14844.915127</td>\n",
       "      <td>0.000000</td>\n",
       "      <td>0.0</td>\n",
       "      <td>0.000000</td>\n",
       "    </tr>\n",
       "    <tr>\n",
       "      <th>2018-01-11</th>\n",
       "      <td>12976.00</td>\n",
       "      <td>12999.98</td>\n",
       "      <td>12946.05</td>\n",
       "      <td>12975.99</td>\n",
       "      <td>19.033956</td>\n",
       "      <td>-0.105104</td>\n",
       "      <td>-0.111048</td>\n",
       "      <td>0.0</td>\n",
       "      <td>13493.040178</td>\n",
       "      <td>14089.734597</td>\n",
       "      <td>-0.000000</td>\n",
       "      <td>0.0</td>\n",
       "      <td>-0.000000</td>\n",
       "    </tr>\n",
       "    <tr>\n",
       "      <th>2018-01-12</th>\n",
       "      <td>13640.01</td>\n",
       "      <td>13647.40</td>\n",
       "      <td>13631.26</td>\n",
       "      <td>13646.99</td>\n",
       "      <td>0.721831</td>\n",
       "      <td>0.051711</td>\n",
       "      <td>0.050418</td>\n",
       "      <td>0.0</td>\n",
       "      <td>13595.675131</td>\n",
       "      <td>13911.559401</td>\n",
       "      <td>0.000000</td>\n",
       "      <td>0.0</td>\n",
       "      <td>0.000000</td>\n",
       "    </tr>\n",
       "    <tr>\n",
       "      <th>2018-01-13</th>\n",
       "      <td>14329.99</td>\n",
       "      <td>14341.40</td>\n",
       "      <td>14308.09</td>\n",
       "      <td>14329.99</td>\n",
       "      <td>6.311058</td>\n",
       "      <td>0.050048</td>\n",
       "      <td>0.048836</td>\n",
       "      <td>1.0</td>\n",
       "      <td>14085.221140</td>\n",
       "      <td>14079.541073</td>\n",
       "      <td>0.000000</td>\n",
       "      <td>0.0</td>\n",
       "      <td>0.000000</td>\n",
       "    </tr>\n",
       "    <tr>\n",
       "      <th>2018-01-14</th>\n",
       "      <td>13450.01</td>\n",
       "      <td>13474.51</td>\n",
       "      <td>13440.00</td>\n",
       "      <td>13452.00</td>\n",
       "      <td>4.679871</td>\n",
       "      <td>-0.061269</td>\n",
       "      <td>-0.063227</td>\n",
       "      <td>0.0</td>\n",
       "      <td>13663.072919</td>\n",
       "      <td>13827.977044</td>\n",
       "      <td>-0.061269</td>\n",
       "      <td>1.0</td>\n",
       "      <td>-0.061339</td>\n",
       "    </tr>\n",
       "  </tbody>\n",
       "</table>\n",
       "</div>"
      ],
      "text/plain": [
       "                Open      High       Low     Close     Volume   returns  \\\n",
       "Date                                                                      \n",
       "2018-01-05  16988.87  17047.92  16988.86  17021.36  20.574944  0.139361   \n",
       "2018-01-06  16967.50  17000.00  16960.02  16975.00   5.255252 -0.002724   \n",
       "2018-01-07  16435.00  16458.00  16435.00  16446.00   2.071036 -0.031163   \n",
       "2018-01-08  14571.02  14607.02  14520.01  14580.00  30.949144 -0.113462   \n",
       "2018-01-09  14250.01  14277.45  14218.01  14254.92  15.806443 -0.022296   \n",
       "2018-01-10  14449.99  14500.00  14432.67  14500.00  16.100888  0.017193   \n",
       "2018-01-11  12976.00  12999.98  12946.05  12975.99  19.033956 -0.105104   \n",
       "2018-01-12  13640.01  13647.40  13631.26  13646.99   0.721831  0.051711   \n",
       "2018-01-13  14329.99  14341.40  14308.09  14329.99   6.311058  0.050048   \n",
       "2018-01-14  13450.01  13474.51  13440.00  13452.00   4.679871 -0.061269   \n",
       "\n",
       "            ln_returns  position         ema_s         ema_l  strategy  \\\n",
       "Date                                                                     \n",
       "2018-01-05    0.130468       0.0  16370.024615      0.000000  0.000000   \n",
       "2018-01-06   -0.002727       0.0  16778.383000      0.000000 -0.000000   \n",
       "2018-01-07   -0.031659       1.0  16555.878678  16439.827453 -0.000000   \n",
       "2018-01-08   -0.120432       0.0  15236.816813  15659.489001 -0.113462   \n",
       "2018-01-09   -0.022549       0.0  14581.919488  15081.480872 -0.000000   \n",
       "2018-01-10    0.017047       0.0  14527.298171  14844.915127  0.000000   \n",
       "2018-01-11   -0.111048       0.0  13493.040178  14089.734597 -0.000000   \n",
       "2018-01-12    0.050418       0.0  13595.675131  13911.559401  0.000000   \n",
       "2018-01-13    0.048836       1.0  14085.221140  14079.541073  0.000000   \n",
       "2018-01-14   -0.063227       0.0  13663.072919  13827.977044 -0.061269   \n",
       "\n",
       "            trades  strategy_net  \n",
       "Date                              \n",
       "2018-01-05     0.0      0.000000  \n",
       "2018-01-06     0.0     -0.000000  \n",
       "2018-01-07     0.0     -0.000000  \n",
       "2018-01-08     1.0     -0.113532  \n",
       "2018-01-09     1.0     -0.000070  \n",
       "2018-01-10     0.0      0.000000  \n",
       "2018-01-11     0.0     -0.000000  \n",
       "2018-01-12     0.0      0.000000  \n",
       "2018-01-13     0.0      0.000000  \n",
       "2018-01-14     1.0     -0.061339  "
      ]
     },
     "execution_count": 182,
     "metadata": {},
     "output_type": "execute_result"
    }
   ],
   "source": [
    "df.dropna(inplace=True)\n",
    "df.head(10)"
   ]
  },
  {
   "cell_type": "code",
   "execution_count": 177,
   "id": "d0495543",
   "metadata": {},
   "outputs": [],
   "source": [
    "data = df.copy()\n",
    "\n",
    "def calculate_performance():\n",
    "\n",
    "    strategy_multiple_net = round(calculate_multiple(data.strategy_net), 3)\n",
    "    strategy_multiple = round(calculate_multiple(data.strategy), 3)\n",
    "    bh_multiple = round(calculate_multiple(data.returns), 3)\n",
    "    outperf_net = round(strategy_multiple_net - bh_multiple, 3)\n",
    "    outperf = round(strategy_multiple - bh_multiple, 3)\n",
    "    num_of_trades = calculate_num_of_trades()\n",
    "    num_samples = len(data)\n",
    "    \n",
    "    print(\"PERFORMANCE MEASURES:\")\n",
    "    print(\"\\n\")\n",
    "    # print(f\"Number of trades: {self.num_of_trades}\")\n",
    "    print(\"Multiple (Strategy):         {}\".format(strategy_multiple))\n",
    "    print(\"Multiple (Buy-and-Hold):     {}\".format(bh_multiple))\n",
    "    print(38 * \"-\")\n",
    "    print(\"Out-/Underperformance:       {}\".format(outperf))\n",
    "    print(f\"Number of Trades: {num_of_trades}\")\n",
    "    print(f\"Strategy Multiple Net: {strategy_multiple_net}\")\n",
    "    "
   ]
  },
  {
   "cell_type": "code",
   "execution_count": 178,
   "id": "ad875056",
   "metadata": {},
   "outputs": [],
   "source": [
    "def calculate_num_of_trades():\n",
    "    return int(data.trades.value_counts().get(1.0, 0))"
   ]
  },
  {
   "cell_type": "code",
   "execution_count": 179,
   "id": "8d50357d",
   "metadata": {},
   "outputs": [
    {
     "name": "stdout",
     "output_type": "stream",
     "text": [
      "PERFORMANCE MEASURES:\n",
      "\n",
      "\n",
      "Multiple (Strategy):         0.714\n",
      "Multiple (Buy-and-Hold):     0.743\n",
      "--------------------------------------\n",
      "Out-/Underperformance:       -0.029\n",
      "Number of Trades: 8\n",
      "Strategy Multiple Net: 0.713\n"
     ]
    }
   ],
   "source": [
    "calculate_performance()\n",
    "# store strategy performance data for further plotting\n",
    "#params_dic = {\"freq\": freq, \"ema_s\": ema_s_val, \"ema_l\": ema_l_val}\n",
    "#self.dataploter.store_testcase_data(self.perf_obj, params_dic)  # comb[0] is current data freq"
   ]
  },
  {
   "cell_type": "code",
   "execution_count": 180,
   "id": "408b1ff5",
   "metadata": {},
   "outputs": [],
   "source": [
    "def calculate_multiple(series):\n",
    "    return np.exp(series.sum())"
   ]
  },
  {
   "cell_type": "code",
   "execution_count": null,
   "id": "c1480211",
   "metadata": {},
   "outputs": [],
   "source": []
  }
 ],
 "metadata": {
  "kernelspec": {
   "display_name": "Python 3 (ipykernel)",
   "language": "python",
   "name": "python3"
  },
  "language_info": {
   "codemirror_mode": {
    "name": "ipython",
    "version": 3
   },
   "file_extension": ".py",
   "mimetype": "text/x-python",
   "name": "python",
   "nbconvert_exporter": "python",
   "pygments_lexer": "ipython3",
   "version": "3.9.18"
  }
 },
 "nbformat": 4,
 "nbformat_minor": 5
}
